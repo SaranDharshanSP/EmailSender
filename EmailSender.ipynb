{
  "nbformat": 4,
  "nbformat_minor": 0,
  "metadata": {
    "colab": {
      "provenance": [],
      "authorship_tag": "ABX9TyP3Q58vgUPotdBJtoXzuduQ",
      "include_colab_link": true
    },
    "kernelspec": {
      "name": "python3",
      "display_name": "Python 3"
    },
    "language_info": {
      "name": "python"
    }
  },
  "cells": [
    {
      "cell_type": "markdown",
      "metadata": {
        "id": "view-in-github",
        "colab_type": "text"
      },
      "source": [
        "<a href=\"https://colab.research.google.com/github/SaranDharshanSP/EmailSender/blob/main/EmailSender.ipynb\" target=\"_parent\"><img src=\"https://colab.research.google.com/assets/colab-badge.svg\" alt=\"Open In Colab\"/></a>"
      ]
    },
    {
      "cell_type": "code",
      "execution_count": null,
      "metadata": {
        "id": "LvFe22z22ZhU"
      },
      "outputs": [],
      "source": [
        "import smtplib\n",
        "from email.mime.multipart import MIMEMultipart\n",
        "from email.mime.text import MIMEText\n",
        "from email.mime.base import MIMEBase\n",
        "from email import encoders\n",
        "\n",
        "def send_email(sender_email, sender_password, receiver_email, subject, message, attachment_path=None):\n",
        "    msg = MIMEMultipart()\n",
        "    msg['From'] = sender_email\n",
        "    msg['To'] = receiver_email\n",
        "    msg['Subject'] = subject\n",
        "\n",
        "    msg.attach(MIMEText(message, 'plain'))\n",
        "\n",
        "    if attachment_path:\n",
        "        attach_file(msg, attachment_path)\n",
        "\n",
        "    with smtplib.SMTP('smtp.gmail.com', 587) as server:\n",
        "        server.starttls()\n",
        "        server.login(sender_email, sender_password)\n",
        "        server.sendmail(sender_email, receiver_email, msg.as_string())\n",
        "\n",
        "def attach_file(msg, attachment_path):\n",
        "    with open(attachment_path, 'rb') as file:\n",
        "        part = MIMEBase('application', 'octet-stream')\n",
        "        part.set_payload(file.read())\n",
        "\n",
        "    encoders.encode_base64(part)\n",
        "\n",
        "    part.add_header('Content-Disposition', f'attachment; filename=\"{attachment_path}\"')\n",
        "    msg.attach(part)\n",
        "\n",
        "sender_email = 'praanahealthcarenlp@gmail.com'\n",
        "sender_password = 'rbhnkxzjwgvwlucr'\n",
        "receiver_email = 'sarandharshanpushparaj@gmail.com'\n",
        "subject = 'Test Email'\n",
        "message = 'Hello, this is a test email.'\n",
        "attachment_path = 'sample_data/mnist_test.csv'\n",
        "\n",
        "send_email(sender_email, sender_password, receiver_email, subject, message, attachment_path)\n"
      ]
    },
    {
      "cell_type": "code",
      "source": [],
      "metadata": {
        "id": "8cB7EN572csC"
      },
      "execution_count": null,
      "outputs": []
    }
  ]
}